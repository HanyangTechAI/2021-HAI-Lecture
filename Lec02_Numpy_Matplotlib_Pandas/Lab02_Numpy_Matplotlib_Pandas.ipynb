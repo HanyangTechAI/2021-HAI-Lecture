{
  "nbformat": 4,
  "nbformat_minor": 0,
  "metadata": {
    "colab": {
      "name": "한양대학교 인공지능 동아리 HAI 2주차 회합 실습.ipynb",
      "provenance": [],
      "toc_visible": true
    },
    "kernelspec": {
      "name": "python3",
      "display_name": "Python 3"
    }
  },
  "cells": [
    {
      "cell_type": "markdown",
      "metadata": {
        "id": "PMwSJ8gEi8tr"
      },
      "source": [
        "# **1. Numpy**"
      ]
    },
    {
      "cell_type": "markdown",
      "metadata": {
        "id": "vX_EwLgWjPYd"
      },
      "source": [
        "## **1-1. 라이브러리 import**\n",
        "\n",
        "numpy 라이브러리를 사용하기 위해 아래 코드를 입력해주세요.(설치 과정은 생략)"
      ]
    },
    {
      "cell_type": "code",
      "metadata": {
        "id": "Op-mc5Mfi2z0"
      },
      "source": [
        "import numpy as np"
      ],
      "execution_count": null,
      "outputs": []
    },
    {
      "cell_type": "markdown",
      "metadata": {
        "id": "vgFKbKR9jh_L"
      },
      "source": [
        "## **1-2. 벡터의 정의**\n",
        "\n",
        "벡터(1차원 배열)은 `np.array(list 형)`으로 정의합니다. 예시로 하나의 벡터를 만들어보아요."
      ]
    },
    {
      "cell_type": "code",
      "metadata": {
        "colab": {
          "base_uri": "https://localhost:8080/"
        },
        "id": "TFjznzavjyDm",
        "outputId": "ae808d33-5274-45e3-a356-49e31b30ff87"
      },
      "source": [
        "x = np.array([1, 2, 3])\n",
        "print(x)\n",
        "print(type(x))"
      ],
      "execution_count": null,
      "outputs": [
        {
          "output_type": "stream",
          "text": [
            "[1 2 3]\n",
            "<class 'numpy.ndarray'>\n"
          ],
          "name": "stdout"
        }
      ]
    },
    {
      "cell_type": "markdown",
      "metadata": {
        "id": "ka6w25z3lMoC"
      },
      "source": [
        "## **1-3. 벡터의 연산**\n",
        "\n",
        "벡터의 연산에 대해 알아봅시다."
      ]
    },
    {
      "cell_type": "markdown",
      "metadata": {
        "id": "-SqEZfvxLKS4"
      },
      "source": [
        "연산을 위해 사용할 두 개의 벡터를 만들어보아요."
      ]
    },
    {
      "cell_type": "code",
      "metadata": {
        "id": "y6Eq6gK6LOD1"
      },
      "source": [
        "v1 = np.array([1, 2, 3])\n",
        "v2 = np.array([4, 5, 6])"
      ],
      "execution_count": null,
      "outputs": []
    },
    {
      "cell_type": "markdown",
      "metadata": {
        "id": "J8GbRbyIOBYj"
      },
      "source": [
        "### **1-3-1. 벡터의 덧셈과 뺄셈**"
      ]
    },
    {
      "cell_type": "code",
      "metadata": {
        "id": "iFNFwhLYla9_",
        "colab": {
          "base_uri": "https://localhost:8080/"
        },
        "outputId": "b8a746a0-717d-4b64-aed3-007acaa78749"
      },
      "source": [
        "v_add = v2 + v1\n",
        "v_sub = v2 - v1\n",
        "\n",
        "print(\"v2 + v1 = \\n\", v_add)\n",
        "print(\"v2 - v1 = \\n\", v_sub)"
      ],
      "execution_count": null,
      "outputs": [
        {
          "output_type": "stream",
          "text": [
            "v2 + v1 = \n",
            " [5 7 9]\n",
            "v2 - v1 = \n",
            " [3 3 3]\n"
          ],
          "name": "stdout"
        }
      ]
    },
    {
      "cell_type": "markdown",
      "metadata": {
        "id": "swWPVYBdlZHV"
      },
      "source": [
        ""
      ]
    },
    {
      "cell_type": "markdown",
      "metadata": {
        "id": "fqky3xdBOdr7"
      },
      "source": [
        "### **1-3-2. 벡터와 스칼라의 곱**"
      ]
    },
    {
      "cell_type": "code",
      "metadata": {
        "colab": {
          "base_uri": "https://localhost:8080/"
        },
        "id": "EM2mULISOlfv",
        "outputId": "50ee4903-ce1b-4b96-99fb-f7576c13268c"
      },
      "source": [
        "v_scalar = v1 * 3\n",
        "\n",
        "print(\"v1 * 3 = \\n\", v_scalar)"
      ],
      "execution_count": null,
      "outputs": [
        {
          "output_type": "stream",
          "text": [
            "v1 * 3 = \n",
            " [3 6 9]\n"
          ],
          "name": "stdout"
        }
      ]
    },
    {
      "cell_type": "markdown",
      "metadata": {
        "id": "uB3-N7TLOwJp"
      },
      "source": [
        "### **1-3-3. 벡터의 내적**"
      ]
    },
    {
      "cell_type": "code",
      "metadata": {
        "colab": {
          "base_uri": "https://localhost:8080/"
        },
        "id": "AEkWN6m-O4wW",
        "outputId": "c59b9741-8789-48a7-eae4-1fbd124dc569"
      },
      "source": [
        "v_inner_product_1 = v1 * v2   # element-wise multiplication\n",
        "\n",
        "v_inner_product_2 = v1.dot(v2)  # inner product\n",
        "\n",
        "v_inner_product_3 = v1 @ v2     # inner product\n",
        "\n",
        "print(v_inner_product_1)\n",
        "print(v_inner_product_2)\n",
        "print(v_inner_product_3)"
      ],
      "execution_count": null,
      "outputs": [
        {
          "output_type": "stream",
          "text": [
            "[ 4 10 18]\n",
            "32\n",
            "32\n"
          ],
          "name": "stdout"
        }
      ]
    },
    {
      "cell_type": "markdown",
      "metadata": {
        "id": "YY-SMMg2QSN_"
      },
      "source": [
        "### **1-3-4. 벡터의 크기**\n",
        "\n",
        "벡터의 크기는 `np.linalg.norm()`을 통해 구할 수 있습니다."
      ]
    },
    {
      "cell_type": "code",
      "metadata": {
        "colab": {
          "base_uri": "https://localhost:8080/"
        },
        "id": "MI-VfuuUQRoX",
        "outputId": "d004b9d0-b55e-4d22-d98a-677c47373e89"
      },
      "source": [
        "print(np.linalg.norm(v1))\n",
        "\n",
        "# v1 = [1, 2, 3]\n",
        "\n",
        "# |v1| = sqrt(1 + 4 + 9)"
      ],
      "execution_count": null,
      "outputs": [
        {
          "output_type": "stream",
          "text": [
            "3.7416573867739413\n"
          ],
          "name": "stdout"
        }
      ]
    },
    {
      "cell_type": "markdown",
      "metadata": {
        "id": "poWnSRPrvgfp"
      },
      "source": [
        "## **1-4. 행렬의 정의**\n",
        "\n",
        "숫자를 수직이나 수평으로 배열한 것을 '벡터'라고 했지만,\n",
        "가로 세로로 표처럼 늘어 놓은 형태를 행렬이라고 부릅니다.\n",
        "\n",
        "예시로 두 개의 행렬을 만들어보아요. 아래의 행렬은 2x3 행렬이라고 할 수 있습니다. 이 두 개의 행렬을 바탕으로 연산도 진행할 것입니다 :)"
      ]
    },
    {
      "cell_type": "code",
      "metadata": {
        "colab": {
          "base_uri": "https://localhost:8080/"
        },
        "id": "qJhIOeUzv025",
        "outputId": "a139c8a4-79a3-4c06-b404-4736c393b7dd"
      },
      "source": [
        "m1 = np.array([[1, 2, 3], [4, 5, 6]])\n",
        "m2 = np.array([[11, 22, 33], [44, 55, 66]])\n",
        "\n",
        "print(m1)\n",
        "print(type(m1))"
      ],
      "execution_count": null,
      "outputs": [
        {
          "output_type": "stream",
          "text": [
            "[[1 2 3]\n",
            " [4 5 6]]\n",
            "<class 'numpy.ndarray'>\n"
          ],
          "name": "stdout"
        }
      ]
    },
    {
      "cell_type": "markdown",
      "metadata": {
        "id": "PFgesYY8wmkH"
      },
      "source": [
        "## **1-5. 행렬의 연산**\n",
        "\n",
        "행렬의 연산에 대해 알아봅시다."
      ]
    },
    {
      "cell_type": "markdown",
      "metadata": {
        "id": "kJcr4JnPwzdn"
      },
      "source": [
        "### **1-5-1. 행렬의 덧셈과 뺄셈**"
      ]
    },
    {
      "cell_type": "code",
      "metadata": {
        "colab": {
          "base_uri": "https://localhost:8080/"
        },
        "id": "7n979v5yw7zT",
        "outputId": "deccd776-21c9-49f5-e4dc-ad8f6dd05258"
      },
      "source": [
        "m_add = m2 + m1   # addition\n",
        "m_sub = m2 - m1   # subtraction\n",
        "\n",
        "print(\"m2 + m1 = \\n\", m_add)\n",
        "print(\"m2 - m1 = \\n\", m_sub)"
      ],
      "execution_count": null,
      "outputs": [
        {
          "output_type": "stream",
          "text": [
            "m2 + m1 = \n",
            " [[12 24 36]\n",
            " [48 60 72]]\n",
            "m2 - m1 = \n",
            " [[10 20 30]\n",
            " [40 50 60]]\n"
          ],
          "name": "stdout"
        }
      ]
    },
    {
      "cell_type": "markdown",
      "metadata": {
        "id": "jdYMfsNKxZsO"
      },
      "source": [
        "### **1-5-2. 행렬과 스칼라의 곱**"
      ]
    },
    {
      "cell_type": "code",
      "metadata": {
        "colab": {
          "base_uri": "https://localhost:8080/"
        },
        "id": "85kehha7xk_f",
        "outputId": "b146e9d7-b9ab-4285-9f50-6cd1071754aa"
      },
      "source": [
        "m_scalar = m1 * 5\n",
        "\n",
        "print(\"m1 * 5 = \\n\", m_scalar)"
      ],
      "execution_count": null,
      "outputs": [
        {
          "output_type": "stream",
          "text": [
            "m1 * 5 = \n",
            " [[ 5 10 15]\n",
            " [20 25 30]]\n"
          ],
          "name": "stdout"
        }
      ]
    },
    {
      "cell_type": "markdown",
      "metadata": {
        "id": "WHTNHHLax0OQ"
      },
      "source": [
        "### **1-5-3. 행렬의 곱셈**\n",
        "\n",
        "행렬은 일반적인 수와 달리, 특정 조건을 만족하는 행렬끼리만 계산할 수 있습니다.\n",
        "두 행렬을 각각 A, B라 해봅시다.\n",
        "\n",
        "A는 m x n 행렬이고,\n",
        "\n",
        "B는 p x q 행렬입니다.\n",
        "\n",
        "A와 B의 곱셈 연산을 논하기 위해서는 **n = p**여야 합니다.\n",
        "\n",
        "즉, 앞 행렬의 row 값과 뒤 행렬의 column 값이 같아야 합니다."
      ]
    },
    {
      "cell_type": "markdown",
      "metadata": {
        "id": "Ogq0aKA_yaz2"
      },
      "source": [
        "먼저, 위에서 만든 m1과 m2 두 행렬에 곱셈 연산을 수행해봅시다.(위에서 이야기한 조건을 생각해보세요.)"
      ]
    },
    {
      "cell_type": "code",
      "metadata": {
        "colab": {
          "base_uri": "https://localhost:8080/",
          "height": 184
        },
        "id": "H8DUjHxyyllF",
        "outputId": "0e9717dd-83e9-452b-edc8-134a54eb4be3"
      },
      "source": [
        "m_wrong_ = m1.dot(m2)\n",
        "print(m_wrong_)"
      ],
      "execution_count": null,
      "outputs": [
        {
          "output_type": "error",
          "ename": "ValueError",
          "evalue": "ignored",
          "traceback": [
            "\u001b[0;31m---------------------------------------------------------------------------\u001b[0m",
            "\u001b[0;31mValueError\u001b[0m                                Traceback (most recent call last)",
            "\u001b[0;32m<ipython-input-11-fca845ecb3d8>\u001b[0m in \u001b[0;36m<module>\u001b[0;34m()\u001b[0m\n\u001b[0;32m----> 1\u001b[0;31m \u001b[0mm_wrong_\u001b[0m \u001b[0;34m=\u001b[0m \u001b[0mm1\u001b[0m\u001b[0;34m.\u001b[0m\u001b[0mdot\u001b[0m\u001b[0;34m(\u001b[0m\u001b[0mm2\u001b[0m\u001b[0;34m)\u001b[0m\u001b[0;34m\u001b[0m\u001b[0;34m\u001b[0m\u001b[0m\n\u001b[0m\u001b[1;32m      2\u001b[0m \u001b[0mprint\u001b[0m\u001b[0;34m(\u001b[0m\u001b[0mm_wrong_\u001b[0m\u001b[0;34m)\u001b[0m\u001b[0;34m\u001b[0m\u001b[0;34m\u001b[0m\u001b[0m\n",
            "\u001b[0;31mValueError\u001b[0m: shapes (2,3) and (2,3) not aligned: 3 (dim 1) != 2 (dim 0)"
          ]
        }
      ]
    },
    {
      "cell_type": "markdown",
      "metadata": {
        "id": "5lT808mYzicx"
      },
      "source": [
        "m1과 곱셈 연산을 할 수 있는 행렬을 만들어볼게요. 그 행렬은 어떤 조건을 가져야 할까요? 한번 생각해보아요."
      ]
    },
    {
      "cell_type": "code",
      "metadata": {
        "id": "rF8tPOYjzoSi"
      },
      "source": [
        "m3 = [[1, 2], [3, 4], [5, 6]]\n",
        "\n",
        "m_good_ = m1.dot(m3)\n",
        "print(m_good_)"
      ],
      "execution_count": null,
      "outputs": []
    },
    {
      "cell_type": "markdown",
      "metadata": {
        "id": "UHiDRnZ10ZIa"
      },
      "source": [
        "## **1-6. 전치 연산(Transpose)**"
      ]
    },
    {
      "cell_type": "markdown",
      "metadata": {
        "id": "3jGl4oDF0kCP"
      },
      "source": [
        "직관적으로는 행렬을 대각선을 축으로 하여 1회 회전한 것이라고 기억하면 이해하기 쉬울 것입니다."
      ]
    },
    {
      "cell_type": "code",
      "metadata": {
        "id": "MRPKf5On0r8e"
      },
      "source": [
        "m_t1 = np.transpose(m1)\n",
        "\n",
        "m_t2 = m1.T\n",
        "\n",
        "print(m_t1)\n",
        "print(\"Are m_t1 and m_t2 equal?\\n\", (m_t1 == m_t2))"
      ],
      "execution_count": null,
      "outputs": []
    },
    {
      "cell_type": "markdown",
      "metadata": {
        "id": "nBw9fmd22D3m"
      },
      "source": [
        "## **1-7. 브로드캐스팅(Broadcasting)**"
      ]
    },
    {
      "cell_type": "markdown",
      "metadata": {
        "id": "fgKBeDTf1aUh"
      },
      "source": [
        "브로드캐스팅(Broadcasting)은 **shape이 다른 배열들 간의 연산**이 특정 조건을 만족할 때 가능해지도록 **배열을 자동적으로 변환**하는 것이라고 이야기했습니다.\n",
        "\n",
        "브로드캐스팅의 조건 두 가지는 아래와 같습니다.\n",
        "\n",
        "1) 차원의 크기가 1인 경우: 두 배열 간의 연산에서 최소 1개의 배열의 차원이 1이면 가능하다.\n",
        "\n",
        "2) 차원의 짝이 맞을 때: 차원에 대해 축의 길이가 동일할 때"
      ]
    },
    {
      "cell_type": "code",
      "metadata": {
        "id": "-ULsG5fYdx5F"
      },
      "source": [
        "# 예시코드"
      ],
      "execution_count": null,
      "outputs": []
    },
    {
      "cell_type": "markdown",
      "metadata": {
        "id": "pRc74mem2KDH"
      },
      "source": [
        "## **1-8. 단위 행렬**\n",
        "\n",
        "단위 행렬을 설명하기 전에 정방 행렬의 개념부터 설명하겠습니다.\n",
        "\n",
        "정방 행렬이란 행의 길이와 열의 길이가 같은 m x m 형태의 행렬을 이야기합니다.\n",
        "\n",
        "단위 행렬(Identity Matrix)은 대각선 성분이 1이고 나머지 성분은 모두 0인 정방 행렬을 의미합니다. 선형대수학에서 중요한 개념으로 사용되기에 참고로 알아두세요.\n",
        "\n",
        "단위 행렬은 `np.identity(n)` 명령으로 만들 수 있습니다."
      ]
    },
    {
      "cell_type": "code",
      "metadata": {
        "id": "pV25tYOt2d3e"
      },
      "source": [
        "I = np.array([[1, 0, 0], [0, 1, 0], [0, 0, 1]])\n",
        "\n",
        "I_2 = np.identity(5)\n",
        "\n",
        "print(I_2)"
      ],
      "execution_count": null,
      "outputs": []
    },
    {
      "cell_type": "markdown",
      "metadata": {
        "id": "7AXyyfv_26HU"
      },
      "source": [
        "**<과제>**\n",
        "\n",
        "아래에 한 행렬이 주어져 있습니다. 길이가 5인 Identity Matrix를 생성하고**(과제사항1)**, 주어진 행렬과 본인이 만든 Identity Matrix의 곱셈을 수행해봅시다**(과제사항2)**. 어떤 결과가 있는지 확인해보고, Identity Matrix가 갖는 특성을 유추해 봅시다**(과제사항3)**. 주어진 행렬을 조금씩 바꾸어 곱셈 연산을 계속 수행해보셔도 좋습니다."
      ]
    },
    {
      "cell_type": "code",
      "metadata": {
        "id": "GmsA5mE53Ygb"
      },
      "source": [
        "matrix = np.random.rand(5, 5)\n",
        "\n",
        "print(matrix)\n",
        "\n",
        "'''\n",
        "Make an size 5 - identity matrix \"outside\" this part.\n",
        "'''\n",
        "\n",
        "\n",
        "'''\n",
        "Do the multiplication operation for the two matrices \"outside\" this part.\n",
        "'''\n",
        "\n",
        "\n",
        "'''\n",
        "Write briefly your conclusions about the Identity Matrix attributes \"in\" this part.\n",
        "\n",
        "\n",
        "'''"
      ],
      "execution_count": null,
      "outputs": []
    },
    {
      "cell_type": "markdown",
      "metadata": {
        "id": "HsP3ZLUDjDN6"
      },
      "source": [
        "# **2. Matplotlib**"
      ]
    },
    {
      "cell_type": "markdown",
      "metadata": {
        "id": "Ebc8EFQ4k-R5"
      },
      "source": [
        "### **2-1. 라이브러리 import**\n",
        "\n",
        "matplotlib 라이브러리를 사용하기 위해 아래 코드를 입력해주세요.(설치 과정은 생략)"
      ]
    },
    {
      "cell_type": "code",
      "metadata": {
        "id": "5N4pFZt1k92A"
      },
      "source": [
        "import matplotlib as mpl\n",
        "import matplotlib.pyplot as plt"
      ],
      "execution_count": 10,
      "outputs": []
    },
    {
      "cell_type": "markdown",
      "metadata": {
        "id": "DwiK6HxV3sJj"
      },
      "source": [
        "### **2-2. 라인 플롯(Line Plot)**\n",
        "꺾은선 그래프라고도 합니다. 주로 데이터가 시간, 순서 등에 따라 변화하는 양상을 보여줄 때 사용하는 Plot Style입니다."
      ]
    },
    {
      "cell_type": "code",
      "metadata": {
        "colab": {
          "base_uri": "https://localhost:8080/",
          "height": 281
        },
        "id": "ll06faRi4DD4",
        "outputId": "62cb0725-519d-492d-afc7-abcdf5f3b2eb"
      },
      "source": [
        "plt.title(\"First Plot\")\n",
        "plt.plot([1, 4, 9, 16])\n",
        "plt.show()"
      ],
      "execution_count": 11,
      "outputs": [
        {
          "output_type": "display_data",
          "data": {
            "image/png": "[encoded data removed]",
            "text/plain": [
              "<Figure size 432x288 with 1 Axes>"
            ]
          },
          "metadata": {
            "tags": [],
            "needs_background": "light"
          }
        }
      ]
    },
    {
      "cell_type": "markdown",
      "metadata": {
        "id": "YTcb7aUW4WVg"
      },
      "source": [
        "이번에는 x축과 y축에 각각 대응되는, (x_value, y_value) 형태로 표현될 수 있는 데이터를 그려봅시다."
      ]
    },
    {
      "cell_type": "code",
      "metadata": {
        "colab": {
          "base_uri": "https://localhost:8080/",
          "height": 283
        },
        "id": "2eklh6GKu5UN",
        "outputId": "13cc9290-542b-46ee-c66b-42928d9e32d2"
      },
      "source": [
        "plt.plot([1, 2, 3, 4], [1, 4, 9, 16])"
      ],
      "execution_count": 12,
      "outputs": [
        {
          "output_type": "execute_result",
          "data": {
            "text/plain": [
              "[<matplotlib.lines.Line2D at 0x7f1a7af6d8d0>]"
            ]
          },
          "metadata": {
            "tags": []
          },
          "execution_count": 12
        },
        {
          "output_type": "display_data",
          "data": {
            "image/png": "[encoded data removed]",
            "text/plain": [
              "<Figure size 432x288 with 1 Axes>"
            ]
          },
          "metadata": {
            "tags": [],
            "needs_background": "light"
          }
        }
      ]
    },
    {
      "cell_type": "markdown",
      "metadata": {
        "id": "x2O0_SBivnqO"
      },
      "source": [
        "같은 그래프를 조금 다른 스타일로 바꾸어볼까요?\n",
        "\n",
        "아래와 같이 세 번째 인자를 통해 선의 색깔과 형태를 지정하는 포맷 지정자를 넣을 수 있습니다. 여기에서는 빨간색 점을 사용해봅시다. ('r': red, 'o': circle marker)"
      ]
    },
    {
      "cell_type": "code",
      "metadata": {
        "colab": {
          "base_uri": "https://localhost:8080/",
          "height": 269
        },
        "id": "AHiBaQJsvm5s",
        "outputId": "b434f58c-9c13-4b0d-bac1-4178a31bbfaf"
      },
      "source": [
        "import matplotlib.pyplot as plt\n",
        "\n",
        "plt.plot([1, 2, 3, 4], [1, 4, 9, 16], 'ro')\n",
        "plt.axis([0, 6, 0, 20])\n",
        "plt.show()"
      ],
      "execution_count": 13,
      "outputs": [
        {
          "output_type": "display_data",
          "data": {
            "image/png": "[encoded data removed]",
            "text/plain": [
              "<Figure size 432x288 with 1 Axes>"
            ]
          },
          "metadata": {
            "tags": [],
            "needs_background": "light"
          }
        }
      ]
    },
    {
      "cell_type": "markdown",
      "metadata": {
        "id": "xQ6gmAHhwInv"
      },
      "source": [
        "x축의 라벨과 y축의 라벨을 임의적으로 지정해줄 수 있습니다. 이때에는 `.xlabel()`과 `.ylabel()`를 사용하여 지정할 수 있습니다."
      ]
    },
    {
      "cell_type": "code",
      "metadata": {
        "id": "hrGovgtuwJFd"
      },
      "source": [
        "plt.plot([1, 2, 3, 4], [1, 4, 9, 16])\n",
        "plt.xlabel('X-Label')\n",
        "plt.ylabel('Y-Label')\n",
        "plt.show()"
      ],
      "execution_count": null,
      "outputs": []
    },
    {
      "cell_type": "markdown",
      "metadata": {
        "id": "vQR27-oCwhL-"
      },
      "source": [
        "### **2-3. 히스토그램**"
      ]
    },
    {
      "cell_type": "markdown",
      "metadata": {
        "id": "Up_NpoalxxNg"
      },
      "source": [
        "히스토그램 (Histogram)은 도수분포표를 그래프로 나타낸 것으로서, 가로축은 계급, 세로축은 도수 (횟수나 개수 등)를 나타냅니다.\n",
        "\n",
        "계급은 보통 변수의 구간이며 서로 겹치지 않습니다.\n",
        "\n",
        "matplotlib.pyplot 모듈의 **`hist()`** 함수를 이용해서 간단한 히스토그램을 그려 보겠습니다."
      ]
    },
    {
      "cell_type": "code",
      "metadata": {
        "id": "WP1AKCd4x5QX"
      },
      "source": [
        "import matplotlib.pyplot as plt\n",
        "\n",
        "weight = [68, 81, 64, 56, 78, 74, 61, 77, 66, 68, 59, 71, 80, 59, 67, 81, 69, 73, 69, 74, 70, 65]\n",
        "\n",
        "plt.hist(weight)\n",
        "plt.show()"
      ],
      "execution_count": null,
      "outputs": []
    },
    {
      "cell_type": "markdown",
      "metadata": {
        "id": "0XnyleZCx-r_"
      },
      "source": [
        "### **2-4. 파이 차트(Pie Chart)**"
      ]
    },
    {
      "cell_type": "markdown",
      "metadata": {
        "id": "07wPPmY_yOAZ"
      },
      "source": [
        "파이 차트 (Pie chart, 원 그래프)는 범주별 구성 비율을 원형으로 표현한 그래프입니다.\n",
        "\n",
        "위의 그림과 같이 부채꼴의 중심각을 구성 비율에 비례하도록 표현합니다.\n",
        "\n",
        "matplotlib.pyplot 모듈의 **`pie()`** 함수를 이용해서 파이 차트를 그리는 방법에 대해 소개합니다."
      ]
    },
    {
      "cell_type": "code",
      "metadata": {
        "id": "oicj2sjXySS6"
      },
      "source": [
        "import matplotlib.pyplot as plt\n",
        "\n",
        "ratio = [34, 32, 16, 18]\n",
        "labels = ['Apple', 'Banana', 'Melon', 'Grapes']\n",
        "\n",
        "plt.pie(ratio, labels=labels, autopct='%.1f%%')\n",
        "plt.show()"
      ],
      "execution_count": null,
      "outputs": []
    },
    {
      "cell_type": "markdown",
      "metadata": {
        "id": "sz4v5H63ymgi"
      },
      "source": [
        "### **2-5. 막대 그래프(Bar Graph)**"
      ]
    },
    {
      "cell_type": "markdown",
      "metadata": {
        "id": "wQHg_aA3y0WT"
      },
      "source": [
        "막대 그래프 (Bar graph, Bar chart)는 범주가 있는 데이터 값을 직사각형의 막대로 표현하는 그래프입니다.\n",
        "\n",
        "Matplotlib에서는 matplotlib.pyplot의 **`bar()`** 함수를 이용해서 막대 그래프를 간단하게 표현할 수 있습니다."
      ]
    },
    {
      "cell_type": "code",
      "metadata": {
        "id": "_vDr4etazEoz"
      },
      "source": [
        "x = np.arange(3)\n",
        "years = ['2017', '2018', '2019']\n",
        "values = [100, 400, 900]\n",
        "\n",
        "plt.bar(x, values)\n",
        "plt.xticks(x, years)\n",
        "plt.show()"
      ],
      "execution_count": null,
      "outputs": []
    },
    {
      "cell_type": "markdown",
      "metadata": {
        "id": "MXzFUk4KkTAN"
      },
      "source": [
        "# **3. Pandas**"
      ]
    },
    {
      "cell_type": "markdown",
      "metadata": {
        "id": "W4WaGPcQkXyG"
      },
      "source": [
        "### **3-1. 라이브러리 import**\n",
        "\n",
        "pandas 라이브러리를 사용하기 위해 아래 코드를 입력해주세요.(설치 과정은 생략)"
      ]
    },
    {
      "cell_type": "code",
      "metadata": {
        "id": "81rvA68okpyu"
      },
      "source": [
        "import pandas as pd"
      ],
      "execution_count": 1,
      "outputs": []
    },
    {
      "cell_type": "markdown",
      "metadata": {
        "id": "zyIKfM9griwS"
      },
      "source": [
        "### **3-2. Series**"
      ]
    },
    {
      "cell_type": "markdown",
      "metadata": {
        "id": "c9uqBtDgsrLE"
      },
      "source": [
        "Series는 기본적으로 아래와 같이 값의 리스트를 넘겨주어 만들 수 있습니다. 또한 값이 위치하고 있는 정보인 인덱스(index)가 Series에 같이 저장되게 되는데요. 따로 전달해주지 않는 한 기본적으로 0부터 시작하여 1씩 증가하는 정수 인덱스가 사용됨을 알 수 있습니다."
      ]
    },
    {
      "cell_type": "code",
      "metadata": {
        "id": "TxTiGQ5brx9x"
      },
      "source": [
        "s = pd.Series([1, 3, 5, np.nan, 6, 8])\n",
        "\n",
        "# 0    1.0\n",
        "# 1    3.0\n",
        "# 2    5.0\n",
        "# 3    NaN\n",
        "# 4    6.0\n",
        "# 5    8.0\n",
        "# dtype: float64"
      ],
      "execution_count": null,
      "outputs": []
    },
    {
      "cell_type": "markdown",
      "metadata": {
        "id": "dSQUzcE6r066"
      },
      "source": [
        "### **3-3. DataFrame**"
      ]
    },
    {
      "cell_type": "markdown",
      "metadata": {
        "id": "Vk6_EHDutJou"
      },
      "source": [
        "또 다른 데이터 오브젝트인 DataFrame은 여러 형태의 데이터를 받아 생성할 수 있는데요. 그 중 한 방법으로 아래와 같이 numpy array 를 받아 생성이 가능합니다.\n",
        "\n",
        "앞서 설명드린 것처럼 DataFrame 은 2차원 배열의 형태를 띄고 있습니다. 따라서 우리가 자주 보는 표 형태와 같이 두 가지의 기준에 따라 데이터를 담고 있습니다.\n",
        "\n",
        "아래의 예제에서는 첫번째 기준은 날짜, 두번째 기준은 장소(A, B, C, D 라는 네 곳의 위치)에 따라 측정된 어떤 값들이 담겨 있다고 생각하면 쉬울 것 같습니다.\n",
        "\n",
        "DataFrame 을 만들기 위해서는 `pd.DataFrame()` 라는 클래스 생성자를 사용하며, 행에 해당하는 기준(첫번째 기준)인 인덱스를 index 라는 인수로 전달하며, 열에 해당하는 기준(두번째 기준)인 컬럼을 columns 이라는 인수로 전달합니다.\n",
        "\n",
        "여기에서는 인덱스로 `pd.date_range()` 를 사용하여 날짜 값들을 만들어 전달해 주었고, 컬럼의 이름은 A, B, C, D 라는 이름이 담긴 리스트로 넣어보았습니다."
      ]
    },
    {
      "cell_type": "code",
      "metadata": {
        "id": "U2zs2evLr2FX"
      },
      "source": [
        "dates = pd.date_range('20130101', periods=6)\n",
        "# DatetimeIndex(['2013-01-01', '2013-01-02', '2013-01-03', '2013-01-04',\n",
        "#                '2013-01-05', '2013-01-06'],\n",
        "#               dtype='datetime64[ns]', freq='D')\n",
        "\n",
        "df = pd.DataFrame(np.random.randn(6,4), index=dates, columns=list('ABCD'))\n",
        "#                   A         B         C         D\n",
        "# 2013-01-01  0.469112 -0.282863 -1.509059 -1.135632\n",
        "# 2013-01-02  1.212112 -0.173215  0.119209 -1.044236\n",
        "# 2013-01-03 -0.861849 -2.104569 -0.494929  1.071804\n",
        "# 2013-01-04  0.721555 -0.706771 -1.039575  0.271860\n",
        "# 2013-01-05 -0.424972  0.567020  0.276232 -1.087401\n",
        "# 2013-01-06 -0.673690  0.113648 -1.478427  0.524988"
      ],
      "execution_count": null,
      "outputs": []
    },
    {
      "cell_type": "markdown",
      "metadata": {
        "id": "U9iSxJJGtw0G"
      },
      "source": [
        "DataFrame 을 생성하는 또 다른 방법으로 아래와 같이 여러 종류의 자료들이 담긴 딕셔너리(dict)를 넣어주어 만들 수 있습니다. 이 때에는 dict 의 key 값이 열을 정의하는 컬럼이 되며, 행을 정의하는 인덱스는 자동으로 0부터 시작하여 1씩 증가하는 정수 인덱스가 사용됩니다."
      ]
    },
    {
      "cell_type": "code",
      "metadata": {
        "id": "wJKw42gltyRI"
      },
      "source": [
        "df2 = pd.DataFrame({'A': 1.,\n",
        "                    'B': pd.Timestamp('20130102'),\n",
        "                    'C': pd.Series(1, index=list(range(4)), dtype='float32'),\n",
        "                    'D': np.array([3]*4, dtype='int32'),\n",
        "                    'E': pd.Categorical(['test', 'train', 'test', 'train']),\n",
        "                    'F': 'foo'})\n",
        "#      A          B    C  D      E    F\n",
        "# 0  1.0 2013-01-02  1.0  3   test  foo\n",
        "# 1  1.0 2013-01-02  1.0  3  train  foo\n",
        "# 2  1.0 2013-01-02  1.0  3   test  foo\n",
        "# 3  1.0 2013-01-02  1.0  3  train  foo"
      ],
      "execution_count": null,
      "outputs": []
    },
    {
      "cell_type": "markdown",
      "metadata": {
        "id": "K6BOByI6rR44"
      },
      "source": [
        "### **3-4. CSV 파일로부터 DataFrame 불러오기**"
      ]
    },
    {
      "cell_type": "markdown",
      "metadata": {
        "id": "r58XTjY-45xE"
      },
      "source": [
        "이 파트에서는 실제 CSV 파일을 불러와서 그 파일을 기반으로 Pandas를 학습할 것입니다. 파일을 불러오는 것은 `pandas.read_csv(\"filename\")`으로 불러올 수 있다고 했었던 것을 기억하세요."
      ]
    },
    {
      "cell_type": "code",
      "metadata": {
        "id": "r-XD1I_y5Pe0"
      },
      "source": [
        "# CSV file --> DataFrame object\n",
        "df = pd.read_csv(\"sample_data/california_housing_test.csv\")"
      ],
      "execution_count": 2,
      "outputs": []
    },
    {
      "cell_type": "markdown",
      "metadata": {
        "id": "2y17SHkY6n8b"
      },
      "source": [
        "불러온 CSV 파일을 살펴보려면, 가장 간단한 방법은 그것을 직접 print해보는 것이 가장 먼저 떠오르는 방법일 것입니다. 수업 시간에는 이것 이외에도 `pandas.describe()` 메소드를 통해 해당 파일의 데이터를 요약적 통계를 확인할 수 있다는 것을 수업 시간에 이야기했습니다."
      ]
    },
    {
      "cell_type": "code",
      "metadata": {
        "colab": {
          "base_uri": "https://localhost:8080/"
        },
        "id": "txUgjYoU65th",
        "outputId": "82a53b07-ab36-40c5-f5fb-e5eca0f29229"
      },
      "source": [
        "print(df)\n",
        "\n",
        "print(df.describe())"
      ],
      "execution_count": 3,
      "outputs": [
        {
          "output_type": "stream",
          "text": [
            "      longitude  latitude  ...  median_income  median_house_value\n",
            "0       -122.05     37.37  ...         6.6085            344700.0\n",
            "1       -118.30     34.26  ...         3.5990            176500.0\n",
            "2       -117.81     33.78  ...         5.7934            270500.0\n",
            "3       -118.36     33.82  ...         6.1359            330000.0\n",
            "4       -119.67     36.33  ...         2.9375             81700.0\n",
            "...         ...       ...  ...            ...                 ...\n",
            "2995    -119.86     34.42  ...         1.1790            225000.0\n",
            "2996    -118.14     34.06  ...         3.3906            237200.0\n",
            "2997    -119.70     36.30  ...         2.2895             62000.0\n",
            "2998    -117.12     34.10  ...         3.2708            162500.0\n",
            "2999    -119.63     34.42  ...         8.5608            500001.0\n",
            "\n",
            "[3000 rows x 9 columns]\n",
            "         longitude    latitude  ...  median_income  median_house_value\n",
            "count  3000.000000  3000.00000  ...    3000.000000          3000.00000\n",
            "mean   -119.589200    35.63539  ...       3.807272        205846.27500\n",
            "std       1.994936     2.12967  ...       1.854512        113119.68747\n",
            "min    -124.180000    32.56000  ...       0.499900         22500.00000\n",
            "25%    -121.810000    33.93000  ...       2.544000        121200.00000\n",
            "50%    -118.485000    34.27000  ...       3.487150        177650.00000\n",
            "75%    -118.020000    37.69000  ...       4.656475        263975.00000\n",
            "max    -114.490000    41.92000  ...      15.000100        500001.00000\n",
            "\n",
            "[8 rows x 9 columns]\n"
          ],
          "name": "stdout"
        }
      ]
    },
    {
      "cell_type": "markdown",
      "metadata": {
        "id": "lrDrWQMbrWjb"
      },
      "source": [
        "### **3-5. Slicing**"
      ]
    },
    {
      "cell_type": "markdown",
      "metadata": {
        "id": "4H3OTTiF7GOb"
      },
      "source": [
        "간략하게 관찰을 해보았더니, 가장 눈에 띄는 것은 데이터프레임의 형태일 것입니다. 2차원의 표 안에 데이터가 들어있는 것을 시각적으로 볼 수 있죠. longitude, latitude 등의 데이터를 담고 있는 것 같아요. 그리고, 데이터는 총 3000개 정도가 있다는 정보도 알 수 있습니다.\n",
        "\n",
        "위도와 경도 부분만 따로 떼어봅시다."
      ]
    },
    {
      "cell_type": "code",
      "metadata": {
        "id": "o-uy-wTR7btG",
        "colab": {
          "base_uri": "https://localhost:8080/"
        },
        "outputId": "a45fe991-d901-430f-fed7-9373395712a6"
      },
      "source": [
        "df_2 = df.loc[:, ['longitude', 'latitude']]\n",
        "print(df_2)"
      ],
      "execution_count": 4,
      "outputs": [
        {
          "output_type": "stream",
          "text": [
            "      longitude  latitude\n",
            "0       -122.05     37.37\n",
            "1       -118.30     34.26\n",
            "2       -117.81     33.78\n",
            "3       -118.36     33.82\n",
            "4       -119.67     36.33\n",
            "...         ...       ...\n",
            "2995    -119.86     34.42\n",
            "2996    -118.14     34.06\n",
            "2997    -119.70     36.30\n",
            "2998    -117.12     34.10\n",
            "2999    -119.63     34.42\n",
            "\n",
            "[3000 rows x 2 columns]\n"
          ],
          "name": "stdout"
        }
      ]
    }
  ]
}